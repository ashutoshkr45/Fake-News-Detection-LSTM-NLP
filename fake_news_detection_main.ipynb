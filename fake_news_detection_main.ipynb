{
  "nbformat": 4,
  "nbformat_minor": 0,
  "metadata": {
    "colab": {
      "provenance": [],
      "gpuType": "T4"
    },
    "kernelspec": {
      "name": "python3",
      "display_name": "Python 3"
    },
    "language_info": {
      "name": "python"
    },
    "accelerator": "GPU"
  },
  "cells": [
    {
      "cell_type": "markdown",
      "source": [
        "# Fake News Detection with Deep Learning"
      ],
      "metadata": {
        "id": "nnPB5SfUDPnu"
      }
    },
    {
      "cell_type": "markdown",
      "source": [
        "**This notebook demonstrates a comprehensive approach to Fake News Detection using Deep Learning techniques. It covers data preprocessing, model building, training, evaluation, and saving of the model and tokenizer. The objective is to create a reliable model that can classify news articles as either \"Reliable\" or \"Fake,\" an essential task in combating misinformation online.**\n"
      ],
      "metadata": {
        "id": "2VzKH1eeCrmU"
      }
    },
    {
      "cell_type": "markdown",
      "source": [
        "## Libraries and Utilities Import"
      ],
      "metadata": {
        "id": "BWsK9lCj3sJQ"
      }
    },
    {
      "cell_type": "code",
      "source": [
        "import pandas as pd\n",
        "import numpy as np\n",
        "from sklearn.model_selection import train_test_split\n",
        "from sklearn.metrics import accuracy_score, classification_report"
      ],
      "metadata": {
        "id": "CkYVDcYqzEzI"
      },
      "execution_count": 1,
      "outputs": []
    },
    {
      "cell_type": "code",
      "source": [
        "import tensorflow as tf\n",
        "from tensorflow.keras.preprocessing.sequence import pad_sequences\n",
        "from tensorflow.keras.preprocessing.text import Tokenizer\n",
        "from tensorflow.keras.utils import plot_model\n",
        "import pickle"
      ],
      "metadata": {
        "id": "nzMyLVYTzDJR"
      },
      "execution_count": 2,
      "outputs": []
    },
    {
      "cell_type": "code",
      "source": [
        "# Import custom utility functions\n",
        "from model_utils import (\n",
        "    load_and_clean_data,\n",
        "    preprocess_text,\n",
        "    create_model,\n",
        "    get_callbacks,\n",
        "    plot_confusion_matrix\n",
        ")"
      ],
      "metadata": {
        "id": "TAaqcne503Ic",
        "colab": {
          "base_uri": "https://localhost:8080/"
        },
        "outputId": "ec6d8eda-0885-4381-ab50-fb6f85ad622b"
      },
      "execution_count": 3,
      "outputs": [
        {
          "output_type": "stream",
          "name": "stderr",
          "text": [
            "[nltk_data] Downloading package stopwords to /root/nltk_data...\n",
            "[nltk_data]   Unzipping corpora/stopwords.zip.\n"
          ]
        }
      ]
    },
    {
      "cell_type": "markdown",
      "source": [
        "## Data Loading & Preview"
      ],
      "metadata": {
        "id": "etEtKG5D3981"
      }
    },
    {
      "cell_type": "code",
      "source": [
        "# Load and Clean data\n",
        "file_path = '/content/drive/MyDrive/Data Science/train.csv'\n",
        "X, y = load_and_clean_data(file_path)"
      ],
      "metadata": {
        "id": "rCW2DR3U1U-U"
      },
      "execution_count": 4,
      "outputs": []
    },
    {
      "cell_type": "code",
      "source": [
        "X.head()"
      ],
      "metadata": {
        "colab": {
          "base_uri": "https://localhost:8080/",
          "height": 206
        },
        "id": "CeKpNaIH1j0l",
        "outputId": "190fc3ca-9e81-4120-f44a-72d538dc19f0"
      },
      "execution_count": 5,
      "outputs": [
        {
          "output_type": "execute_result",
          "data": {
            "text/plain": [
              "   id                                               news\n",
              "0   0  House Dem Aide: We Didn’t Even See Comey’s Let...\n",
              "1   1  FLYNN: Hillary Clinton, Big Woman on Campus - ...\n",
              "2   2  Why the Truth Might Get You Fired Consortiumne...\n",
              "3   3  15 Civilians Killed In Single US Airstrike Hav...\n",
              "4   4  Iranian woman jailed for fictional unpublished..."
            ],
            "text/html": [
              "\n",
              "  <div id=\"df-558b6b08-dc7e-40e9-b8d7-d152d698b678\" class=\"colab-df-container\">\n",
              "    <div>\n",
              "<style scoped>\n",
              "    .dataframe tbody tr th:only-of-type {\n",
              "        vertical-align: middle;\n",
              "    }\n",
              "\n",
              "    .dataframe tbody tr th {\n",
              "        vertical-align: top;\n",
              "    }\n",
              "\n",
              "    .dataframe thead th {\n",
              "        text-align: right;\n",
              "    }\n",
              "</style>\n",
              "<table border=\"1\" class=\"dataframe\">\n",
              "  <thead>\n",
              "    <tr style=\"text-align: right;\">\n",
              "      <th></th>\n",
              "      <th>id</th>\n",
              "      <th>news</th>\n",
              "    </tr>\n",
              "  </thead>\n",
              "  <tbody>\n",
              "    <tr>\n",
              "      <th>0</th>\n",
              "      <td>0</td>\n",
              "      <td>House Dem Aide: We Didn’t Even See Comey’s Let...</td>\n",
              "    </tr>\n",
              "    <tr>\n",
              "      <th>1</th>\n",
              "      <td>1</td>\n",
              "      <td>FLYNN: Hillary Clinton, Big Woman on Campus - ...</td>\n",
              "    </tr>\n",
              "    <tr>\n",
              "      <th>2</th>\n",
              "      <td>2</td>\n",
              "      <td>Why the Truth Might Get You Fired Consortiumne...</td>\n",
              "    </tr>\n",
              "    <tr>\n",
              "      <th>3</th>\n",
              "      <td>3</td>\n",
              "      <td>15 Civilians Killed In Single US Airstrike Hav...</td>\n",
              "    </tr>\n",
              "    <tr>\n",
              "      <th>4</th>\n",
              "      <td>4</td>\n",
              "      <td>Iranian woman jailed for fictional unpublished...</td>\n",
              "    </tr>\n",
              "  </tbody>\n",
              "</table>\n",
              "</div>\n",
              "    <div class=\"colab-df-buttons\">\n",
              "\n",
              "  <div class=\"colab-df-container\">\n",
              "    <button class=\"colab-df-convert\" onclick=\"convertToInteractive('df-558b6b08-dc7e-40e9-b8d7-d152d698b678')\"\n",
              "            title=\"Convert this dataframe to an interactive table.\"\n",
              "            style=\"display:none;\">\n",
              "\n",
              "  <svg xmlns=\"http://www.w3.org/2000/svg\" height=\"24px\" viewBox=\"0 -960 960 960\">\n",
              "    <path d=\"M120-120v-720h720v720H120Zm60-500h600v-160H180v160Zm220 220h160v-160H400v160Zm0 220h160v-160H400v160ZM180-400h160v-160H180v160Zm440 0h160v-160H620v160ZM180-180h160v-160H180v160Zm440 0h160v-160H620v160Z\"/>\n",
              "  </svg>\n",
              "    </button>\n",
              "\n",
              "  <style>\n",
              "    .colab-df-container {\n",
              "      display:flex;\n",
              "      gap: 12px;\n",
              "    }\n",
              "\n",
              "    .colab-df-convert {\n",
              "      background-color: #E8F0FE;\n",
              "      border: none;\n",
              "      border-radius: 50%;\n",
              "      cursor: pointer;\n",
              "      display: none;\n",
              "      fill: #1967D2;\n",
              "      height: 32px;\n",
              "      padding: 0 0 0 0;\n",
              "      width: 32px;\n",
              "    }\n",
              "\n",
              "    .colab-df-convert:hover {\n",
              "      background-color: #E2EBFA;\n",
              "      box-shadow: 0px 1px 2px rgba(60, 64, 67, 0.3), 0px 1px 3px 1px rgba(60, 64, 67, 0.15);\n",
              "      fill: #174EA6;\n",
              "    }\n",
              "\n",
              "    .colab-df-buttons div {\n",
              "      margin-bottom: 4px;\n",
              "    }\n",
              "\n",
              "    [theme=dark] .colab-df-convert {\n",
              "      background-color: #3B4455;\n",
              "      fill: #D2E3FC;\n",
              "    }\n",
              "\n",
              "    [theme=dark] .colab-df-convert:hover {\n",
              "      background-color: #434B5C;\n",
              "      box-shadow: 0px 1px 3px 1px rgba(0, 0, 0, 0.15);\n",
              "      filter: drop-shadow(0px 1px 2px rgba(0, 0, 0, 0.3));\n",
              "      fill: #FFFFFF;\n",
              "    }\n",
              "  </style>\n",
              "\n",
              "    <script>\n",
              "      const buttonEl =\n",
              "        document.querySelector('#df-558b6b08-dc7e-40e9-b8d7-d152d698b678 button.colab-df-convert');\n",
              "      buttonEl.style.display =\n",
              "        google.colab.kernel.accessAllowed ? 'block' : 'none';\n",
              "\n",
              "      async function convertToInteractive(key) {\n",
              "        const element = document.querySelector('#df-558b6b08-dc7e-40e9-b8d7-d152d698b678');\n",
              "        const dataTable =\n",
              "          await google.colab.kernel.invokeFunction('convertToInteractive',\n",
              "                                                    [key], {});\n",
              "        if (!dataTable) return;\n",
              "\n",
              "        const docLinkHtml = 'Like what you see? Visit the ' +\n",
              "          '<a target=\"_blank\" href=https://colab.research.google.com/notebooks/data_table.ipynb>data table notebook</a>'\n",
              "          + ' to learn more about interactive tables.';\n",
              "        element.innerHTML = '';\n",
              "        dataTable['output_type'] = 'display_data';\n",
              "        await google.colab.output.renderOutput(dataTable, element);\n",
              "        const docLink = document.createElement('div');\n",
              "        docLink.innerHTML = docLinkHtml;\n",
              "        element.appendChild(docLink);\n",
              "      }\n",
              "    </script>\n",
              "  </div>\n",
              "\n",
              "\n",
              "<div id=\"df-474dc526-e06a-43b4-87c0-e506d1248ce8\">\n",
              "  <button class=\"colab-df-quickchart\" onclick=\"quickchart('df-474dc526-e06a-43b4-87c0-e506d1248ce8')\"\n",
              "            title=\"Suggest charts\"\n",
              "            style=\"display:none;\">\n",
              "\n",
              "<svg xmlns=\"http://www.w3.org/2000/svg\" height=\"24px\"viewBox=\"0 0 24 24\"\n",
              "     width=\"24px\">\n",
              "    <g>\n",
              "        <path d=\"M19 3H5c-1.1 0-2 .9-2 2v14c0 1.1.9 2 2 2h14c1.1 0 2-.9 2-2V5c0-1.1-.9-2-2-2zM9 17H7v-7h2v7zm4 0h-2V7h2v10zm4 0h-2v-4h2v4z\"/>\n",
              "    </g>\n",
              "</svg>\n",
              "  </button>\n",
              "\n",
              "<style>\n",
              "  .colab-df-quickchart {\n",
              "      --bg-color: #E8F0FE;\n",
              "      --fill-color: #1967D2;\n",
              "      --hover-bg-color: #E2EBFA;\n",
              "      --hover-fill-color: #174EA6;\n",
              "      --disabled-fill-color: #AAA;\n",
              "      --disabled-bg-color: #DDD;\n",
              "  }\n",
              "\n",
              "  [theme=dark] .colab-df-quickchart {\n",
              "      --bg-color: #3B4455;\n",
              "      --fill-color: #D2E3FC;\n",
              "      --hover-bg-color: #434B5C;\n",
              "      --hover-fill-color: #FFFFFF;\n",
              "      --disabled-bg-color: #3B4455;\n",
              "      --disabled-fill-color: #666;\n",
              "  }\n",
              "\n",
              "  .colab-df-quickchart {\n",
              "    background-color: var(--bg-color);\n",
              "    border: none;\n",
              "    border-radius: 50%;\n",
              "    cursor: pointer;\n",
              "    display: none;\n",
              "    fill: var(--fill-color);\n",
              "    height: 32px;\n",
              "    padding: 0;\n",
              "    width: 32px;\n",
              "  }\n",
              "\n",
              "  .colab-df-quickchart:hover {\n",
              "    background-color: var(--hover-bg-color);\n",
              "    box-shadow: 0 1px 2px rgba(60, 64, 67, 0.3), 0 1px 3px 1px rgba(60, 64, 67, 0.15);\n",
              "    fill: var(--button-hover-fill-color);\n",
              "  }\n",
              "\n",
              "  .colab-df-quickchart-complete:disabled,\n",
              "  .colab-df-quickchart-complete:disabled:hover {\n",
              "    background-color: var(--disabled-bg-color);\n",
              "    fill: var(--disabled-fill-color);\n",
              "    box-shadow: none;\n",
              "  }\n",
              "\n",
              "  .colab-df-spinner {\n",
              "    border: 2px solid var(--fill-color);\n",
              "    border-color: transparent;\n",
              "    border-bottom-color: var(--fill-color);\n",
              "    animation:\n",
              "      spin 1s steps(1) infinite;\n",
              "  }\n",
              "\n",
              "  @keyframes spin {\n",
              "    0% {\n",
              "      border-color: transparent;\n",
              "      border-bottom-color: var(--fill-color);\n",
              "      border-left-color: var(--fill-color);\n",
              "    }\n",
              "    20% {\n",
              "      border-color: transparent;\n",
              "      border-left-color: var(--fill-color);\n",
              "      border-top-color: var(--fill-color);\n",
              "    }\n",
              "    30% {\n",
              "      border-color: transparent;\n",
              "      border-left-color: var(--fill-color);\n",
              "      border-top-color: var(--fill-color);\n",
              "      border-right-color: var(--fill-color);\n",
              "    }\n",
              "    40% {\n",
              "      border-color: transparent;\n",
              "      border-right-color: var(--fill-color);\n",
              "      border-top-color: var(--fill-color);\n",
              "    }\n",
              "    60% {\n",
              "      border-color: transparent;\n",
              "      border-right-color: var(--fill-color);\n",
              "    }\n",
              "    80% {\n",
              "      border-color: transparent;\n",
              "      border-right-color: var(--fill-color);\n",
              "      border-bottom-color: var(--fill-color);\n",
              "    }\n",
              "    90% {\n",
              "      border-color: transparent;\n",
              "      border-bottom-color: var(--fill-color);\n",
              "    }\n",
              "  }\n",
              "</style>\n",
              "\n",
              "  <script>\n",
              "    async function quickchart(key) {\n",
              "      const quickchartButtonEl =\n",
              "        document.querySelector('#' + key + ' button');\n",
              "      quickchartButtonEl.disabled = true;  // To prevent multiple clicks.\n",
              "      quickchartButtonEl.classList.add('colab-df-spinner');\n",
              "      try {\n",
              "        const charts = await google.colab.kernel.invokeFunction(\n",
              "            'suggestCharts', [key], {});\n",
              "      } catch (error) {\n",
              "        console.error('Error during call to suggestCharts:', error);\n",
              "      }\n",
              "      quickchartButtonEl.classList.remove('colab-df-spinner');\n",
              "      quickchartButtonEl.classList.add('colab-df-quickchart-complete');\n",
              "    }\n",
              "    (() => {\n",
              "      let quickchartButtonEl =\n",
              "        document.querySelector('#df-474dc526-e06a-43b4-87c0-e506d1248ce8 button');\n",
              "      quickchartButtonEl.style.display =\n",
              "        google.colab.kernel.accessAllowed ? 'block' : 'none';\n",
              "    })();\n",
              "  </script>\n",
              "</div>\n",
              "\n",
              "    </div>\n",
              "  </div>\n"
            ],
            "application/vnd.google.colaboratory.intrinsic+json": {
              "type": "dataframe",
              "variable_name": "X",
              "summary": "{\n  \"name\": \"X\",\n  \"rows\": 18285,\n  \"fields\": [\n    {\n      \"column\": \"id\",\n      \"properties\": {\n        \"dtype\": \"number\",\n        \"std\": 5998,\n        \"min\": 0,\n        \"max\": 20799,\n        \"num_unique_values\": 18285,\n        \"samples\": [\n          11784,\n          6997,\n          14903\n        ],\n        \"semantic_type\": \"\",\n        \"description\": \"\"\n      }\n    },\n    {\n      \"column\": \"news\",\n      \"properties\": {\n        \"dtype\": \"string\",\n        \"num_unique_values\": 18121,\n        \"samples\": [\n          \"Comment on The Science is \\u201cOverwhelming At This Point\\u201d Wifi Industry Appeals Brain Tumor Association Ordinance by THE SCIENCE IS \\u201cOVERWHELMING AT THIS POINT\\u201d WIFI INDUSTRY APPEALS BRAIN TUMOR ASSOCIATION ORDINANC - WAKING SCIENCE THE SCIENCE IS \\u201cOVERWHELMING AT THIS POINT\\u201d WIFI INDUSTRY APPEALS BRAIN TUMOR ASSOCIATION ORDINANC - WAKING SCIENCE\",\n          \"Ted Cruz: Some of the Trump Damage Is \\u2018Self Inflicted\\u2019 - Breitbart Pam Key\",\n          \"Jimmy Breslin, Legendary New York City Newspaper Columnist, Dies at 88 - The New York Times Dan Barry\"\n        ],\n        \"semantic_type\": \"\",\n        \"description\": \"\"\n      }\n    }\n  ]\n}"
            }
          },
          "metadata": {},
          "execution_count": 5
        }
      ]
    },
    {
      "cell_type": "markdown",
      "source": [
        "## Text Preprocessing\n",
        "\n",
        "The `preprocess_text` function is used to clean and prepare the text data. The preprocessing steps include:\n",
        "\n",
        "1. **Lowercasing**: Converts all text to lowercase to ensure uniformity and avoid case-sensitive discrepancies.\n",
        "2. **Removing Punctuation**: Eliminates punctuation marks, which are not useful for text analysis.\n",
        "3. **Tokenization**: Splits the text into individual words or tokens.\n",
        "4. **Removing Stop Words**: Filters out common words that do not contribute to the meaning of the text.\n",
        "5. **Stemming**: Reduces words to their base or root form to standardize them.\n",
        "\n",
        "These steps help in normalizing the text and making it suitable for further processing and model training.\n"
      ],
      "metadata": {
        "id": "lcOykJgc4i2b"
      }
    },
    {
      "cell_type": "code",
      "source": [
        "corpus = preprocess_text(X['news'].tolist())"
      ],
      "metadata": {
        "id": "Kr8yf24H1y4q"
      },
      "execution_count": 6,
      "outputs": []
    },
    {
      "cell_type": "markdown",
      "source": [
        "## Tokenization and Padding\n",
        "\n",
        "1. **Tokenization**: The `Tokenizer` is initialized with a vocabulary size of 5000 and is fitted on the preprocessed text corpus. This step converts the text into sequences of integers where each integer represents a unique word in the corpus.\n",
        "\n",
        "2. **Conversion to Sequences**: The `texts_to_sequences` method transforms the corpus into sequences of integers.\n",
        "\n",
        "3. **Padding**: The sequences are then padded to ensure uniform input length. Sequences shorter than 30 tokens are padded with zeros at the beginning (`pre` padding). This step helps in standardizing the input size for the model.\n",
        "\n",
        "The resulting `embedded_docs` is an array of padded sequences ready for model training."
      ],
      "metadata": {
        "id": "3mVQ7uCe5cG2"
      }
    },
    {
      "cell_type": "code",
      "source": [
        "voc_size = 5000\n",
        "\n",
        "# Fit the tokenizer on the corpus\n",
        "tokenizer = Tokenizer(num_words=voc_size)\n",
        "tokenizer.fit_on_texts(corpus)"
      ],
      "metadata": {
        "id": "3jbRNncQ3MPg"
      },
      "execution_count": 7,
      "outputs": []
    },
    {
      "cell_type": "code",
      "source": [
        "# Convert the corpus to sequences\n",
        "onehot_repr = tokenizer.texts_to_sequences(corpus)"
      ],
      "metadata": {
        "id": "4hC2y0Va-nZw"
      },
      "execution_count": 8,
      "outputs": []
    },
    {
      "cell_type": "code",
      "source": [
        "# Pad the sequences\n",
        "sent_length = 30\n",
        "embedded_docs = pad_sequences(onehot_repr, padding='pre', maxlen=sent_length)\n",
        "print(embedded_docs)"
      ],
      "metadata": {
        "colab": {
          "base_uri": "https://localhost:8080/"
        },
        "id": "yYCS3YTU3eCQ",
        "outputId": "91632a43-54a4-429e-d339-c2c91899a1c0"
      },
      "execution_count": 9,
      "outputs": [
        {
          "output_type": "stream",
          "name": "stdout",
          "text": [
            "[[   0    0    0 ...  581 3094 3095]\n",
            " [   0    0    0 ...   46   70  729]\n",
            " [   0    0    0 ...  117  621   16]\n",
            " ...\n",
            " [   0    0    0 ... 1716  446 2117]\n",
            " [   0    0    0 ... 3186  163  415]\n",
            " [   0    0    0 ... 1910   42 1655]]\n"
          ]
        }
      ]
    },
    {
      "cell_type": "markdown",
      "source": [
        "### Data Splitting\n",
        "\n",
        "1. **Conversion to NumPy Arrays**: The padded sequences (`embedded_docs`) and labels (`y`) are converted to NumPy arrays, `X_final` and `y_final`.\n",
        "\n",
        "2. **Train-Test Split**: The data is split into training and testing sets using a 70-30 split. This ensures that 30% of the data is used for testing while the remaining 70% is used for training and validation. The split is reproducible with `random_state=42`."
      ],
      "metadata": {
        "id": "7gd0cSs36AjS"
      }
    },
    {
      "cell_type": "code",
      "source": [
        "# Convert to numpy arrays\n",
        "X_final = np.array(embedded_docs)\n",
        "y_final = np.array(y)\n",
        "\n",
        "X_train, X_test, y_train, y_test = train_test_split(X_final, y_final, test_size=0.3, random_state=42)"
      ],
      "metadata": {
        "id": "_nfdAyQq3mjC"
      },
      "execution_count": 10,
      "outputs": []
    },
    {
      "cell_type": "markdown",
      "source": [
        "`X_train`, `X_test`, `y_train`, and `y_test` are now ready for model training and evaluation."
      ],
      "metadata": {
        "id": "PUJUOnbh6SnB"
      }
    },
    {
      "cell_type": "markdown",
      "source": [
        "## Model Creation & Visualization\n",
        "\n",
        "The model is initialized with a vocabulary size of 5000, 50 vector features, and a sequence length of 30. Its architecture is summarized and visualized."
      ],
      "metadata": {
        "id": "s28lOE67_7ix"
      }
    },
    {
      "cell_type": "code",
      "source": [
        "# Create and compile the model\n",
        "vector_features = 50\n",
        "model = create_model(voc_size, vector_features, sent_length)"
      ],
      "metadata": {
        "id": "d0PThAw93uAu"
      },
      "execution_count": 11,
      "outputs": []
    },
    {
      "cell_type": "code",
      "source": [
        "model.summary()"
      ],
      "metadata": {
        "colab": {
          "base_uri": "https://localhost:8080/"
        },
        "id": "dW_ZIIpH3_h1",
        "outputId": "eeb4bbf7-4acd-4cc2-81d6-dd1455f05ab6"
      },
      "execution_count": 12,
      "outputs": [
        {
          "output_type": "stream",
          "name": "stdout",
          "text": [
            "Model: \"sequential\"\n",
            "_________________________________________________________________\n",
            " Layer (type)                Output Shape              Param #   \n",
            "=================================================================\n",
            " embedding (Embedding)       (None, 30, 50)            250000    \n",
            "                                                                 \n",
            " dropout (Dropout)           (None, 30, 50)            0         \n",
            "                                                                 \n",
            " lstm (LSTM)                 (None, 32)                10624     \n",
            "                                                                 \n",
            " dropout_1 (Dropout)         (None, 32)                0         \n",
            "                                                                 \n",
            " dense (Dense)               (None, 1)                 33        \n",
            "                                                                 \n",
            "=================================================================\n",
            "Total params: 260657 (1018.19 KB)\n",
            "Trainable params: 260657 (1018.19 KB)\n",
            "Non-trainable params: 0 (0.00 Byte)\n",
            "_________________________________________________________________\n"
          ]
        }
      ]
    },
    {
      "cell_type": "code",
      "source": [
        "# Plot the model\n",
        "plot_model(model, to_file='model_plot.png', show_shapes=True, show_layer_names=True)"
      ],
      "metadata": {
        "colab": {
          "base_uri": "https://localhost:8080/",
          "height": 644
        },
        "id": "t9D95saZ4GEB",
        "outputId": "d6f7ee13-22db-45a3-da36-a97a23fdc4a5"
      },
      "execution_count": 13,
      "outputs": [
        {
          "output_type": "execute_result",
          "data": {
            "image/png": "[encoded data removed]",
            "text/plain": [
              "<IPython.core.display.Image object>"
            ]
          },
          "metadata": {},
          "execution_count": 13
        }
      ]
    },
    {
      "cell_type": "markdown",
      "source": [
        "## Model Training and Evaluation\n",
        "\n",
        "The model is trained for 10 epochs with a batch size of 32 and validation split of 20%. After training, predictions are evaluated with Accuracy, Classification Report, and Confusion Matrix visualization.\n"
      ],
      "metadata": {
        "id": "f4ZekWWEBMCm"
      }
    },
    {
      "cell_type": "code",
      "source": [
        "# Train the model\n",
        "callback = get_callbacks()\n",
        "model.fit(X_train, y_train, validation_split=0.2, epochs=10, batch_size=32, callbacks=callback)"
      ],
      "metadata": {
        "colab": {
          "base_uri": "https://localhost:8080/"
        },
        "id": "GDTh5THR4PWC",
        "outputId": "28c617e3-13ad-479d-da25-03ea81380dcd"
      },
      "execution_count": 14,
      "outputs": [
        {
          "output_type": "stream",
          "name": "stdout",
          "text": [
            "Epoch 1/10\n",
            "320/320 [==============================] - 18s 40ms/step - loss: 0.2069 - accuracy: 0.9164 - val_loss: 0.0417 - val_accuracy: 0.9879\n",
            "Epoch 2/10\n",
            "320/320 [==============================] - 4s 12ms/step - loss: 0.0226 - accuracy: 0.9940 - val_loss: 0.0281 - val_accuracy: 0.9910\n",
            "Epoch 3/10\n",
            "320/320 [==============================] - 3s 9ms/step - loss: 0.0093 - accuracy: 0.9977 - val_loss: 0.0284 - val_accuracy: 0.9922\n",
            "Epoch 4/10\n",
            "320/320 [==============================] - 2s 8ms/step - loss: 0.0041 - accuracy: 0.9992 - val_loss: 0.0282 - val_accuracy: 0.9930\n",
            "Epoch 5/10\n",
            "320/320 [==============================] - 2s 7ms/step - loss: 0.0014 - accuracy: 0.9998 - val_loss: 0.0378 - val_accuracy: 0.9898\n",
            "Epoch 6/10\n",
            "320/320 [==============================] - 2s 7ms/step - loss: 8.2318e-04 - accuracy: 0.9999 - val_loss: 0.0362 - val_accuracy: 0.9898\n",
            "Epoch 7/10\n",
            "318/320 [============================>.] - ETA: 0s - loss: 3.7993e-04 - accuracy: 1.0000Restoring model weights from the end of the best epoch: 2.\n",
            "320/320 [==============================] - 3s 8ms/step - loss: 3.7830e-04 - accuracy: 1.0000 - val_loss: 0.0392 - val_accuracy: 0.9906\n",
            "Epoch 7: early stopping\n"
          ]
        },
        {
          "output_type": "execute_result",
          "data": {
            "text/plain": [
              "<keras.src.callbacks.History at 0x78b4f04dbc40>"
            ]
          },
          "metadata": {},
          "execution_count": 14
        }
      ]
    },
    {
      "cell_type": "code",
      "source": [
        "# Evaluate the model\n",
        "y_pred = (model.predict(X_test) > 0.5).astype(\"int32\")"
      ],
      "metadata": {
        "colab": {
          "base_uri": "https://localhost:8080/"
        },
        "id": "DhqyLzlb4ajs",
        "outputId": "f1cf2a4d-38af-4c7f-d5da-141dfe8f5e8e"
      },
      "execution_count": 15,
      "outputs": [
        {
          "output_type": "stream",
          "name": "stdout",
          "text": [
            "172/172 [==============================] - 1s 2ms/step\n"
          ]
        }
      ]
    },
    {
      "cell_type": "code",
      "source": [
        "accuracy = accuracy_score(y_test, y_pred)\n",
        "print(f'Accuracy: {accuracy}')"
      ],
      "metadata": {
        "colab": {
          "base_uri": "https://localhost:8080/"
        },
        "id": "YQnhxsV54pa_",
        "outputId": "90047497-9b0b-4fac-b3d1-b5b43d9b9720"
      },
      "execution_count": 16,
      "outputs": [
        {
          "output_type": "stream",
          "name": "stdout",
          "text": [
            "Accuracy: 0.9907036091870215\n"
          ]
        }
      ]
    },
    {
      "cell_type": "code",
      "source": [
        "report = classification_report(y_test, y_pred, target_names=['Reliable', 'Fake'])\n",
        "print(report)"
      ],
      "metadata": {
        "colab": {
          "base_uri": "https://localhost:8080/"
        },
        "id": "-iuBY-qp5EQp",
        "outputId": "1843b6ee-9af9-467c-aeec-d5f1d6da6976"
      },
      "execution_count": 17,
      "outputs": [
        {
          "output_type": "stream",
          "name": "stdout",
          "text": [
            "              precision    recall  f1-score   support\n",
            "\n",
            "    Reliable       0.99      0.99      0.99      3107\n",
            "        Fake       0.99      0.99      0.99      2379\n",
            "\n",
            "    accuracy                           0.99      5486\n",
            "   macro avg       0.99      0.99      0.99      5486\n",
            "weighted avg       0.99      0.99      0.99      5486\n",
            "\n"
          ]
        }
      ]
    },
    {
      "cell_type": "code",
      "source": [
        "plot_confusion_matrix(y_test, y_pred, ['Reliable', 'Fake'])"
      ],
      "metadata": {
        "colab": {
          "base_uri": "https://localhost:8080/",
          "height": 732
        },
        "id": "0gGBsS3O5SQV",
        "outputId": "780cbb45-6965-4ed0-ac2e-4fb2113a7af3"
      },
      "execution_count": 18,
      "outputs": [
        {
          "output_type": "display_data",
          "data": {
            "text/plain": [
              "<Figure size 1000x800 with 2 Axes>"
            ],
            "image/png": "[encoded data removed]"
          },
          "metadata": {}
        }
      ]
    },
    {
      "cell_type": "markdown",
      "source": [
        "## Saving Model and Tokenizer\n",
        "\n",
        "The trained model and tokenizer are saved for future use: the Tokenizer is serialized into a pickle file, and the model is saved in HDF5 format.\n"
      ],
      "metadata": {
        "id": "BvT2-yrnB7uD"
      }
    },
    {
      "cell_type": "code",
      "source": [
        "# Save the tokenizer\n",
        "\n",
        "with open('tokenizer.pickle', 'wb') as handle:\n",
        "    pickle.dump(tokenizer, handle, protocol=pickle.HIGHEST_PROTOCOL)"
      ],
      "metadata": {
        "id": "3SAGQFGN5jqZ"
      },
      "execution_count": 19,
      "outputs": []
    },
    {
      "cell_type": "code",
      "source": [
        "# Save the trained model\n",
        "model.save('fake_news_model.h5')"
      ],
      "metadata": {
        "colab": {
          "base_uri": "https://localhost:8080/"
        },
        "id": "7KrzhvKx9vVm",
        "outputId": "4277ac7c-fbc8-4b90-81dc-76d42285e033",
        "collapsed": true
      },
      "execution_count": 21,
      "outputs": [
        {
          "output_type": "stream",
          "name": "stderr",
          "text": [
            "/usr/local/lib/python3.10/dist-packages/keras/src/engine/training.py:3103: UserWarning: You are saving your model as an HDF5 file via `model.save()`. This file format is considered legacy. We recommend using instead the native Keras format, e.g. `model.save('my_model.keras')`.\n",
            "  saving_api.save_model(\n"
          ]
        }
      ]
    }
  ]
}